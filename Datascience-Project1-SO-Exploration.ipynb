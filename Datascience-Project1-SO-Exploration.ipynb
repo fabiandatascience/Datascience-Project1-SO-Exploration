{
 "cells": [
  {
   "attachments": {},
   "cell_type": "markdown",
   "id": "a1ba0232-bf82-4a76-a4a3-f8607e80268f",
   "metadata": {},
   "source": [
    "# Projekt: Write a Data Science Blog Post!"
   ]
  },
  {
   "attachments": {},
   "cell_type": "markdown",
   "id": "fa3b51a7-0a58-41bd-94d5-9db0c69714eb",
   "metadata": {},
   "source": [
    "### Frage 1: Welche Datenbankumgebung generierte zwischen 2021 und 2023 die größten Zuwächse an Beliebtheit?"
   ]
  },
  {
   "cell_type": "code",
   "execution_count": null,
   "id": "808c9057-a47a-4704-8a22-3e402164dc79",
   "metadata": {},
   "outputs": [],
   "source": []
  }
 ],
 "metadata": {
  "kernelspec": {
   "display_name": "Python 3 (ipykernel)",
   "language": "python",
   "name": "python3"
  },
  "language_info": {
   "codemirror_mode": {
    "name": "ipython",
    "version": 3
   },
   "file_extension": ".py",
   "mimetype": "text/x-python",
   "name": "python",
   "nbconvert_exporter": "python",
   "pygments_lexer": "ipython3",
   "version": "3.12.2"
  }
 },
 "nbformat": 4,
 "nbformat_minor": 5
}
